{
 "cells": [
  {
   "cell_type": "code",
   "execution_count": 1,
   "id": "efd6dff7",
   "metadata": {},
   "outputs": [],
   "source": [
    "import pandas as pd"
   ]
  },
  {
   "cell_type": "code",
   "execution_count": 2,
   "id": "472be7ec",
   "metadata": {},
   "outputs": [],
   "source": [
    "df = pd.DataFrame( {'c1':[1, 2, 3] ,'c2':[3, 4, 5] ,'c3':[6, 7, 8]})"
   ]
  },
  {
   "cell_type": "code",
   "execution_count": null,
   "id": "8d44d83a",
   "metadata": {},
   "outputs": [],
   "source": [
    "df.re"
   ]
  }
 ],
 "metadata": {
  "kernelspec": {
   "display_name": "Python 3",
   "language": "python",
   "name": "python3"
  },
  "language_info": {
   "codemirror_mode": {
    "name": "ipython",
    "version": 3
   },
   "file_extension": ".py",
   "mimetype": "text/x-python",
   "name": "python",
   "nbconvert_exporter": "python",
   "pygments_lexer": "ipython3",
   "version": "3.6.4"
  }
 },
 "nbformat": 4,
 "nbformat_minor": 5
}
